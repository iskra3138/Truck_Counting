{
 "cells": [
  {
   "cell_type": "code",
   "execution_count": 5,
   "id": "5e400122",
   "metadata": {},
   "outputs": [],
   "source": [
    "import os\n",
    "import glob\n",
    "import shutil\n",
    "from distutils.dir_util import copy_tree"
   ]
  },
  {
   "cell_type": "code",
   "execution_count": 6,
   "id": "4dd89981",
   "metadata": {},
   "outputs": [],
   "source": [
    "DATASETS = ['train', 'val']"
   ]
  },
  {
   "cell_type": "code",
   "execution_count": 15,
   "id": "0a704e60",
   "metadata": {},
   "outputs": [],
   "source": [
    "for DATASET in DATASETS :\n",
    "    ORG_PATH = './../Vehicles_max250_under3000/{}/'.format(DATASET) # make your own path\n",
    "    LRG_PATH = './../Trucks_max250_under3000/{}/'.format(DATASET) # make your own path\n",
    "    SML_PATH = './../Car_max250_under3000/{}/'.format(DATASET) # make your own path\n",
    "\n",
    "    txt_files = glob.glob(os.path.join(ORG_PATH, 'labelTxt', '*.txt'))\n",
    "\n",
    "    LRG_DEST_PATH_IMG = os.path.join(LRG_PATH, 'images')\n",
    "    LRG_DEST_PATH_LBL = os.path.join(LRG_PATH, 'labelTxt')\n",
    "    LRG_DEST_PATH_META = os.path.join(LRG_PATH, 'meta')\n",
    "    \n",
    "    SML_DEST_PATH_IMG = os.path.join(SML_PATH, 'images')\n",
    "    SML_DEST_PATH_LBL = os.path.join(SML_PATH, 'labelTxt')\n",
    "    SML_DEST_PATH_META = os.path.join(SML_PATH, 'meta')\n",
    "\n",
    "    dest_paths = [LRG_DEST_PATH_IMG, LRG_DEST_PATH_LBL, LRG_DEST_PATH_META, \n",
    "                 SML_DEST_PATH_IMG, SML_DEST_PATH_LBL, SML_DEST_PATH_META]\n",
    "\n",
    "    for dest_path in dest_paths :\n",
    "        if os.path.exists(dest_path) :\n",
    "            shutil.rmtree(dest_path, ignore_errors=True)\n",
    "        os.makedirs(dest_path)\n",
    "\n",
    "    copy_tree(os.path.join(ORG_PATH, 'images'), LRG_DEST_PATH_IMG)\n",
    "    copy_tree(os.path.join(ORG_PATH, 'meta'), LRG_DEST_PATH_META)\n",
    "    copy_tree(os.path.join(ORG_PATH, 'images'), SML_DEST_PATH_IMG)\n",
    "    copy_tree(os.path.join(ORG_PATH, 'meta'), SML_DEST_PATH_META)          \n",
    "        \n",
    "    for txt_file in txt_files :\n",
    "        file_name = os.path.split(txt_file)[1] # 'P0001.txt'    \n",
    "        lrg_lbl = os.path.join(LRG_DEST_PATH_LBL, file_name)\n",
    "        sml_lbl = os.path.join(SML_DEST_PATH_LBL, file_name)\n",
    "        with open(txt_file, 'r') as f1 :\n",
    "            lines = f1.readlines()\n",
    "            f_lrg = open (lrg_lbl, 'w')\n",
    "            f_sml = open (sml_lbl, 'w')\n",
    "            for line in lines :\n",
    "                if 'large-vehicle' in line :\n",
    "                    f_lrg.write(line)\n",
    "                elif 'small-vehicle' in line :\n",
    "                    f_sml.write(line)\n",
    "\n",
    "            f_lrg.close()\n",
    "            f_sml.close()"
   ]
  }
 ],
 "metadata": {
  "kernelspec": {
   "display_name": "Python 3",
   "language": "python",
   "name": "python3"
  },
  "language_info": {
   "codemirror_mode": {
    "name": "ipython",
    "version": 3
   },
   "file_extension": ".py",
   "mimetype": "text/x-python",
   "name": "python",
   "nbconvert_exporter": "python",
   "pygments_lexer": "ipython3",
   "version": "3.6.13"
  }
 },
 "nbformat": 4,
 "nbformat_minor": 5
}
