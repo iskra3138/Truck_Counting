{
 "cells": [
  {
   "cell_type": "code",
   "execution_count": 1,
   "id": "5e400122",
   "metadata": {},
   "outputs": [],
   "source": [
    "import os\n",
    "import glob\n",
    "import shutil\n",
    "import numpy as np\n",
    "from PIL import Image"
   ]
  },
  {
   "cell_type": "code",
   "execution_count": 2,
   "id": "35286dfd",
   "metadata": {},
   "outputs": [],
   "source": [
    "def calc_perimeters (coords) :\n",
    "    '''\n",
    "    Args:\n",
    "        coords: list of x-y coordinates of 4 coners [x1,y1,x2,y2,x3,y3,x4,y4]\n",
    "    '''\n",
    "    order = [0,2,4,6,0]\n",
    "    perimeters = 0\n",
    "    for i in range(4) :\n",
    "        o = np.array(coords[order[i]:order[i]+2])\n",
    "        d = np.array(coords[order[i+1]:order[i+1]+2])\n",
    "        perimeters += np.linalg.norm(o-d) \n",
    "    return perimeters"
   ]
  },
  {
   "cell_type": "code",
   "execution_count": 4,
   "id": "4dd89981",
   "metadata": {},
   "outputs": [],
   "source": [
    "DATASETS = ['train', 'val']"
   ]
  },
  {
   "cell_type": "code",
   "execution_count": 5,
   "id": "d06a5938",
   "metadata": {},
   "outputs": [],
   "source": [
    "for DATASET in DATASETS :\n",
    "    ORG_PATH = './{}'.format(DATASET) # make your own path\n",
    "    DEST_PATH = './../Vehicles_Tmax250_/{}/'.format(DATASET) # make your own path\n",
    "\n",
    "    txt_files = glob.glob(os.path.join(ORG_PATH, 'labelTxt-v2.0', '*.txt'))\n",
    "    img_files = glob.glob(os.path.join(ORG_PATH, 'images','*.png'))\n",
    "    meta_files = glob.glob(os.path.join(ORG_PATH, 'meta', '*.txt'))\n",
    "\n",
    "    DEST_PATH_IMG = os.path.join(DEST_PATH, 'images')\n",
    "    DEST_PATH_LBL = os.path.join(DEST_PATH, 'labelTxt')\n",
    "    DEST_PATH_META = os.path.join(DEST_PATH, 'meta')\n",
    "\n",
    "    dest_paths = [DEST_PATH_IMG, DEST_PATH_LBL, DEST_PATH_META]\n",
    "\n",
    "    for dest_path in dest_paths :\n",
    "        if os.path.exists(dest_path) :\n",
    "            shutil.rmtree(dest_path, ignore_errors=True)\n",
    "        os.makedirs(dest_path)\n",
    "\n",
    "\n",
    "    for txt_file in txt_files :\n",
    "        file_name = os.path.split(txt_file)[1] # 'P0001.txt'    \n",
    "        img_name = file_name.replace('txt', 'png')\n",
    "        org_img_file = os.path.join(ORG_PATH, 'images', img_name)\n",
    "        org_meta_file = os.path.join(ORG_PATH, 'meta', file_name)\n",
    "\n",
    "        with open(txt_file, 'r') as f1 :\n",
    "            is_vehicle = False\n",
    "            perimeters = []\n",
    "            lines = f1.readlines()\n",
    "            with open (os.path.join(DEST_PATH, 'tmp.txt'), 'w') as f2 :\n",
    "                for line in lines :\n",
    "                    if 'large-vehicle' in line :\n",
    "                        is_vehicle = True\n",
    "                        label = line.split(' ')\n",
    "                        coords = [float(x) for x in label[:8]]\n",
    "                        perimeter = calc_perimeters(coords)\n",
    "                        perimeters.append(perimeter) \n",
    "\n",
    "                        f2.write(line)\n",
    "                    elif 'small-vehicle' in line :\n",
    "                        f2.write(line)\n",
    "            if is_vehicle :\n",
    "                if max(perimeters) > 250 :\n",
    "                    dest_img_file = os.path.join(DEST_PATH_IMG, img_name)\n",
    "                    dest_meta_file = os.path.join(DEST_PATH_META, file_name)\n",
    "                    dest_lbl_file = os.path.join(DEST_PATH_LBL, file_name)\n",
    "\n",
    "                    shutil.copy(org_img_file, dest_img_file)\n",
    "                    shutil.copy(org_meta_file, dest_meta_file)\n",
    "                    shutil.copy(os.path.join(DEST_PATH, 'tmp.txt'), dest_lbl_file)\n",
    "\n",
    "            os.remove(os.path.join(DEST_PATH, 'tmp.txt'))  "
   ]
  },
  {
   "cell_type": "markdown",
   "id": "a2309e15",
   "metadata": {},
   "source": [
    "# remove too large images"
   ]
  },
  {
   "cell_type": "code",
   "execution_count": 21,
   "id": "0a704e60",
   "metadata": {},
   "outputs": [],
   "source": [
    "for DATASET in DATASETS :\n",
    "    ORG_PATH = './{}'.format(DATASET) # make your own path\n",
    "    DEST_PATH = './../Vehicles_max250_under3000/{}/'.format(DATASET) # make your own path\n",
    "\n",
    "    txt_files = glob.glob(os.path.join(ORG_PATH, 'labelTxt-v2.0', '*.txt'))\n",
    "    img_files = glob.glob(os.path.join(ORG_PATH, 'images','*.png'))\n",
    "    meta_files = glob.glob(os.path.join(ORG_PATH, 'meta', '*.txt'))\n",
    "\n",
    "    DEST_PATH_IMG = os.path.join(DEST_PATH, 'images')\n",
    "    DEST_PATH_LBL = os.path.join(DEST_PATH, 'labelTxt')\n",
    "    DEST_PATH_META = os.path.join(DEST_PATH, 'meta')\n",
    "\n",
    "    dest_paths = [DEST_PATH_IMG, DEST_PATH_LBL, DEST_PATH_META]\n",
    "\n",
    "    for dest_path in dest_paths :\n",
    "        if os.path.exists(dest_path) :\n",
    "            shutil.rmtree(dest_path, ignore_errors=True)\n",
    "        os.makedirs(dest_path)\n",
    "\n",
    "\n",
    "    for txt_file in txt_files :\n",
    "        file_name = os.path.split(txt_file)[1] # 'P0001.txt'    \n",
    "        img_name = file_name.replace('txt', 'png')\n",
    "        org_img_file = os.path.join(ORG_PATH, 'images', img_name)\n",
    "        org_meta_file = os.path.join(ORG_PATH, 'meta', file_name)\n",
    "        \n",
    "        with open(txt_file, 'r') as f1 :\n",
    "            is_vehicle = False\n",
    "            perimeters = []\n",
    "            lines = f1.readlines()\n",
    "            with open (os.path.join(DEST_PATH, 'tmp.txt'), 'w') as f2 :\n",
    "                for line in lines :\n",
    "                    if 'large-vehicle' in line :\n",
    "                        is_vehicle = True\n",
    "                        label = line.split(' ')\n",
    "                        coords = [float(x) for x in label[:8]]\n",
    "                        perimeter = calc_perimeters(coords)\n",
    "                        perimeters.append(perimeter) \n",
    "\n",
    "                        f2.write(line)\n",
    "                    elif 'small-vehicle' in line :\n",
    "                        f2.write(line)\n",
    "            if is_vehicle :\n",
    "                if max(perimeters) > 250 :\n",
    "                    w,h = Image.open(org_img_file).size\n",
    "                    if min (w,h) <= 3000 :\n",
    "                        dest_img_file = os.path.join(DEST_PATH_IMG, img_name)\n",
    "                        dest_meta_file = os.path.join(DEST_PATH_META, file_name)\n",
    "                        dest_lbl_file = os.path.join(DEST_PATH_LBL, file_name)\n",
    "\n",
    "                        shutil.copy(org_img_file, dest_img_file)\n",
    "                        shutil.copy(org_meta_file, dest_meta_file)\n",
    "                        shutil.copy(os.path.join(DEST_PATH, 'tmp.txt'), dest_lbl_file)\n",
    "\n",
    "            os.remove(os.path.join(DEST_PATH, 'tmp.txt'))  "
   ]
  },
  {
   "cell_type": "code",
   "execution_count": null,
   "id": "cc3198cf",
   "metadata": {},
   "outputs": [],
   "source": []
  },
  {
   "cell_type": "code",
   "execution_count": 24,
   "id": "eb0bacae",
   "metadata": {},
   "outputs": [
    {
     "name": "stdout",
     "output_type": "stream",
     "text": [
      "dataset:train, num_of_files:120, num_of_large: 6430, num_of_small: 8120\n",
      "dataset:val  , num_of_files: 38, num_of_large: 2078, num_of_small: 2524\n"
     ]
    }
   ],
   "source": [
    "DATASETS = ['train', 'val']\n",
    "for DATASET in DATASETS :\n",
    "    DEST_PATH = './../Vehicles_max250_under3000/{}/'.format(DATASET)\n",
    "    dest_txt_files = glob.glob(os.path.join(DEST_PATH, 'labelTxt', '*.txt'))\n",
    "\n",
    "    large = 0\n",
    "    small = 0\n",
    "\n",
    "    for dest_txt_file in dest_txt_files :\n",
    "        file_name = os.path.split(dest_txt_file)[1]\n",
    "        img_name = file_name.replace('txt', 'png')\n",
    "        img_path = os.path.join(DEST_PATH, 'images', img_name)\n",
    "        w,h = Image.open(img_path).size\n",
    "        \n",
    "        with (open(dest_txt_file, 'r')) as f :\n",
    "            lines = f.readlines()\n",
    "            for line in lines :\n",
    "                if 'large' in line :\n",
    "                    large +=1\n",
    "                elif 'small' in line :\n",
    "                    small +=1\n",
    "    print ('dataset:{:5}, num_of_files:{:3}, num_of_large: {:3}, num_of_small: {:3}'.format(\n",
    "        DATASET, len(dest_txt_files), large, small))"
   ]
  },
  {
   "cell_type": "code",
   "execution_count": null,
   "id": "9a130442",
   "metadata": {},
   "outputs": [],
   "source": []
  },
  {
   "cell_type": "code",
   "execution_count": null,
   "id": "f404435d",
   "metadata": {},
   "outputs": [],
   "source": []
  },
  {
   "cell_type": "code",
   "execution_count": null,
   "id": "4f171d99",
   "metadata": {},
   "outputs": [],
   "source": []
  },
  {
   "cell_type": "code",
   "execution_count": null,
   "id": "2d47644f",
   "metadata": {},
   "outputs": [],
   "source": []
  },
  {
   "cell_type": "markdown",
   "id": "c2f5b4cc",
   "metadata": {},
   "source": [
    "# Count instances by label"
   ]
  },
  {
   "cell_type": "code",
   "execution_count": 31,
   "id": "a21daed1",
   "metadata": {},
   "outputs": [
    {
     "name": "stdout",
     "output_type": "stream",
     "text": [
      "dataset:train, num_of_files:131, num_of_instances: 4113\n",
      "dataset:val  , num_of_files: 35, num_of_instances: 1194\n"
     ]
    }
   ],
   "source": [
    "DATASETS = ['train', 'val']\n",
    "for DATASET in DATASETS :\n",
    "    DEST_PATH = './../Trucks/{}/'.format(DATASET)\n",
    "    dest_txt_files = glob.glob(os.path.join(DEST_PATH, 'labelTxt', '*.txt'))\n",
    "\n",
    "    large = 0\n",
    "\n",
    "    for dest_txt_file in dest_txt_files :\n",
    "        with (open(dest_txt_file, 'r')) as f :\n",
    "            lines = f.readlines()\n",
    "            for line in lines :\n",
    "                large +=1\n",
    "    print ('dataset:{:5}, num_of_files:{:3}, num_of_instances: {:3}'.format(DATASET, len(dest_txt_files), large))"
   ]
  },
  {
   "cell_type": "code",
   "execution_count": 38,
   "id": "50ae0f20",
   "metadata": {},
   "outputs": [
    {
     "name": "stdout",
     "output_type": "stream",
     "text": [
      "dataset:train, num_of_files: 25, num_of_instances: 209\n",
      "dataset:val  , num_of_files:  6, num_of_instances:  33\n"
     ]
    }
   ],
   "source": [
    "# 250\n",
    "DATASETS = ['train', 'val']\n",
    "for DATASET in DATASETS :\n",
    "    DEST_PATH = './../Trucks_250/{}/'.format(DATASET)\n",
    "    dest_txt_files = glob.glob(os.path.join(DEST_PATH, 'labelTxt', '*.txt'))\n",
    "\n",
    "    large = 0\n",
    "\n",
    "    for dest_txt_file in dest_txt_files :\n",
    "        with (open(dest_txt_file, 'r')) as f :\n",
    "            lines = f.readlines()\n",
    "            for line in lines :\n",
    "                large +=1\n",
    "    print ('dataset:{:5}, num_of_files:{:3}, num_of_instances: {:3}'.format(DATASET, len(dest_txt_files), large))"
   ]
  },
  {
   "cell_type": "code",
   "execution_count": 42,
   "id": "455f83c6",
   "metadata": {},
   "outputs": [
    {
     "name": "stdout",
     "output_type": "stream",
     "text": [
      "dataset:train, num_of_files: 52, num_of_instances: 1001\n",
      "dataset:val  , num_of_files: 15, num_of_instances: 373\n"
     ]
    }
   ],
   "source": [
    "# 200\n",
    "DATASETS = ['train', 'val']\n",
    "for DATASET in DATASETS :\n",
    "    DEST_PATH = './../Trucks_200/{}/'.format(DATASET)\n",
    "    dest_txt_files = glob.glob(os.path.join(DEST_PATH, 'labelTxt', '*.txt'))\n",
    "\n",
    "    large = 0\n",
    "\n",
    "    for dest_txt_file in dest_txt_files :\n",
    "        with (open(dest_txt_file, 'r')) as f :\n",
    "            lines = f.readlines()\n",
    "            for line in lines :\n",
    "                large +=1\n",
    "    print ('dataset:{:5}, num_of_files:{:3}, num_of_instances: {:3}'.format(DATASET, len(dest_txt_files), large))"
   ]
  },
  {
   "cell_type": "code",
   "execution_count": null,
   "id": "139e881a",
   "metadata": {},
   "outputs": [],
   "source": []
  },
  {
   "cell_type": "code",
   "execution_count": null,
   "id": "afa197b0",
   "metadata": {},
   "outputs": [],
   "source": []
  },
  {
   "cell_type": "code",
   "execution_count": 5,
   "id": "969745ec",
   "metadata": {},
   "outputs": [
    {
     "name": "stdout",
     "output_type": "stream",
     "text": [
      "dataset:train, num_of_files:249, num_of_instances: 12399\n",
      "dataset:val  , num_of_files: 69, num_of_instances: 3161\n"
     ]
    }
   ],
   "source": [
    "# 200\n",
    "DATASETS = ['train', 'val']\n",
    "for DATASET in DATASETS :\n",
    "    DEST_PATH = './../Trucks_max200/{}/'.format(DATASET)\n",
    "    dest_txt_files = glob.glob(os.path.join(DEST_PATH, 'labelTxt', '*.txt'))\n",
    "\n",
    "    large = 0\n",
    "\n",
    "    for dest_txt_file in dest_txt_files :\n",
    "        with (open(dest_txt_file, 'r')) as f :\n",
    "            lines = f.readlines()\n",
    "            for line in lines :\n",
    "                large +=1\n",
    "    print ('dataset:{:5}, num_of_files:{:3}, num_of_instances: {:3}'.format(DATASET, len(dest_txt_files), large))"
   ]
  },
  {
   "cell_type": "code",
   "execution_count": 7,
   "id": "75811002",
   "metadata": {},
   "outputs": [
    {
     "name": "stdout",
     "output_type": "stream",
     "text": [
      "dataset:train, num_of_files:163, num_of_instances: 8572\n",
      "dataset:val  , num_of_files: 45, num_of_instances: 2391\n"
     ]
    }
   ],
   "source": [
    "# 250\n",
    "DATASETS = ['train', 'val']\n",
    "for DATASET in DATASETS :\n",
    "    DEST_PATH = './../Trucks_max250/{}/'.format(DATASET)\n",
    "    dest_txt_files = glob.glob(os.path.join(DEST_PATH, 'labelTxt', '*.txt'))\n",
    "\n",
    "    large = 0\n",
    "\n",
    "    for dest_txt_file in dest_txt_files :\n",
    "        with (open(dest_txt_file, 'r')) as f :\n",
    "            lines = f.readlines()\n",
    "            for line in lines :\n",
    "                large +=1\n",
    "    print ('dataset:{:5}, num_of_files:{:3}, num_of_instances: {:3}'.format(DATASET, len(dest_txt_files), large))"
   ]
  },
  {
   "cell_type": "code",
   "execution_count": 6,
   "id": "5a662ebe",
   "metadata": {},
   "outputs": [
    {
     "name": "stdout",
     "output_type": "stream",
     "text": [
      "dataset:train, num_of_files:163, num_of_large: 8572, num_of_small: 29021\n",
      "dataset:val  , num_of_files: 45, num_of_large: 2391, num_of_small: 6707\n"
     ]
    }
   ],
   "source": [
    "# 250 - Large and Small\n",
    "DATASETS = ['train', 'val']\n",
    "for DATASET in DATASETS :\n",
    "    DEST_PATH = './../Vehicles_Tmax250_/{}/'.format(DATASET)\n",
    "    dest_txt_files = glob.glob(os.path.join(DEST_PATH, 'labelTxt', '*.txt'))\n",
    "\n",
    "    large = 0\n",
    "    small = 0\n",
    "\n",
    "    for dest_txt_file in dest_txt_files :\n",
    "        with (open(dest_txt_file, 'r')) as f :\n",
    "            lines = f.readlines()\n",
    "            for line in lines :\n",
    "                if 'large' in line :\n",
    "                    large +=1\n",
    "                elif 'small' in line :\n",
    "                    small +=1\n",
    "    print ('dataset:{:5}, num_of_files:{:3}, num_of_large: {:3}, num_of_small: {:3}'.format(\n",
    "        DATASET, len(dest_txt_files), large, small))"
   ]
  },
  {
   "cell_type": "code",
   "execution_count": null,
   "id": "0e7fb4e5",
   "metadata": {},
   "outputs": [],
   "source": []
  },
  {
   "cell_type": "code",
   "execution_count": 13,
   "id": "5c4da913",
   "metadata": {},
   "outputs": [],
   "source": [
    "from PIL import Image"
   ]
  },
  {
   "cell_type": "code",
   "execution_count": 16,
   "id": "f732dcba",
   "metadata": {},
   "outputs": [
    {
     "name": "stdout",
     "output_type": "stream",
     "text": [
      "P0022.png 3946 6533\n",
      "P0039.png 3599 3656\n",
      "P0087.png 4439 5137\n",
      "P1139.png 9089 6473\n",
      "P1142.png 4018 4911\n",
      "P1389.png 6008 5524\n",
      "P1408.png 7253 5261\n",
      "P1419.png 3373 4649\n",
      "P1426.png 7905 5416\n",
      "P1455.png 5780 5628\n",
      "P1457.png 5193 4658\n",
      "P1462.png 6138 4817\n",
      "P1466.png 6327 5662\n",
      "P1783.png 3147 3357\n",
      "P1845.png 3918 3487\n",
      "P2609.png 3923 4860\n",
      "P2612.png 6725 4331\n",
      "P2641.png 7574 5625\n",
      "P2642.png 7039 5551\n",
      "P3065.png 7360 4912\n",
      "P3555.png 7360 4912\n",
      "P4464.png 7360 4912\n",
      "P4724.png 7360 4912\n",
      "P4851.png 4096 4096\n",
      "P5034.png 7360 4912\n",
      "P5102.png 7360 4912\n",
      "P5195.png 7360 4912\n",
      "P5760.png 7360 4912\n",
      "P6281.png 7360 4912\n",
      "P6494.png 3433 4360\n",
      "P6525.png 4097 4096\n",
      "P7476.png 7360 4912\n",
      "P7584.png 7360 4912\n",
      "P8003.png 7360 4912\n",
      "P8204.png 7360 4912\n",
      "P8461.png 7360 4912\n",
      "P8587.png 7360 4912\n",
      "P9337.png 7360 4912\n",
      "P9347.png 7360 4912\n",
      "P9645.png 7360 4912\n",
      "P10747.png 7360 4912\n",
      "P10808.png 7360 4912\n",
      "P10963.png 7360 4912\n",
      "dataset:train, num_of_files:163, num_of_large: 2142, num_of_small: 20901\n",
      "P1471.png 4801 5046\n",
      "P1854.png 13383 4287\n",
      "P4151.png 7360 4912\n",
      "P5070.png 7360 4912\n",
      "P6687.png 7360 4912\n",
      "P8287.png 7360 4912\n",
      "P8656.png 7360 4912\n",
      "dataset:val  , num_of_files: 45, num_of_large: 313, num_of_small: 4183\n"
     ]
    }
   ],
   "source": [
    "# 250 - Large and Small\n",
    "# high resolution\n",
    "\n",
    "\n",
    "DATASETS = ['train', 'val']\n",
    "for DATASET in DATASETS :\n",
    "    DEST_PATH = './../Vehicles_Tmax250_/{}/'.format(DATASET)\n",
    "    dest_txt_files = glob.glob(os.path.join(DEST_PATH, 'labelTxt', '*.txt'))\n",
    "\n",
    "    large = 0\n",
    "    small = 0\n",
    "\n",
    "    for dest_txt_file in dest_txt_files :\n",
    "        file_name = os.path.split(dest_txt_file)[1]\n",
    "        img_name = file_name.replace('txt', 'png')\n",
    "        img_path = os.path.join(DEST_PATH, 'images', img_name)\n",
    "        w,h = Image.open(img_path).size\n",
    "        if min (w,h) > 3000 :\n",
    "            print (img_name, w, h)\n",
    "            with (open(dest_txt_file, 'r')) as f :\n",
    "                lines = f.readlines()\n",
    "                for line in lines :\n",
    "                    if 'large' in line :\n",
    "                        large +=1\n",
    "                    elif 'small' in line :\n",
    "                        small +=1\n",
    "    print ('dataset:{:5}, num_of_files:{:3}, num_of_large: {:3}, num_of_small: {:3}'.format(\n",
    "        DATASET, len(dest_txt_files), large, small))"
   ]
  },
  {
   "cell_type": "code",
   "execution_count": 10,
   "id": "679bb08b",
   "metadata": {},
   "outputs": [],
   "source": [
    "dest_txt_file\n",
    "file_name = os.path.split(dest_txt_file)[1]\n",
    "img_name = file_name.replace('txt', 'png')\n",
    "img_path = os.path.join(DEST_PATH, 'images', img_name)\n",
    "w,h = Image.open(img_path).size\n",
    "if min (w,h) > 3000 :\n",
    "    print (w, h)"
   ]
  },
  {
   "cell_type": "code",
   "execution_count": 14,
   "id": "783d097c",
   "metadata": {},
   "outputs": [
    {
     "data": {
      "text/plain": [
       "(1490, 2137)"
      ]
     },
     "execution_count": 14,
     "metadata": {},
     "output_type": "execute_result"
    }
   ],
   "source": []
  },
  {
   "cell_type": "code",
   "execution_count": null,
   "id": "4ae23200",
   "metadata": {},
   "outputs": [],
   "source": []
  },
  {
   "cell_type": "code",
   "execution_count": null,
   "id": "6234b700",
   "metadata": {},
   "outputs": [],
   "source": []
  }
 ],
 "metadata": {
  "kernelspec": {
   "display_name": "Python 3",
   "language": "python",
   "name": "python3"
  },
  "language_info": {
   "codemirror_mode": {
    "name": "ipython",
    "version": 3
   },
   "file_extension": ".py",
   "mimetype": "text/x-python",
   "name": "python",
   "nbconvert_exporter": "python",
   "pygments_lexer": "ipython3",
   "version": "3.6.13"
  }
 },
 "nbformat": 4,
 "nbformat_minor": 5
}
