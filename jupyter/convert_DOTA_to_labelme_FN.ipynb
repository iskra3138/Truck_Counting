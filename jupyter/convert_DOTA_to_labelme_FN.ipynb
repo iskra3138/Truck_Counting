{
 "cells": [
  {
   "cell_type": "code",
   "execution_count": 1,
   "id": "9fbca142",
   "metadata": {},
   "outputs": [],
   "source": [
    "import base64\n",
    "import os\n",
    "from PIL import Image\n",
    "import glob\n",
    "import json\n",
    "import numpy as np\n",
    "\n",
    "import PIL.Image"
   ]
  },
  {
   "cell_type": "code",
   "execution_count": 2,
   "id": "a585b6f0",
   "metadata": {},
   "outputs": [],
   "source": [
    "def calc_ratio (coords) :\n",
    "    '''\n",
    "    Args:\n",
    "        coords: list of x-y coordinates of 4 coners [x1,y1,x2,y2,x3,y3,x4,y4]\n",
    "    '''\n",
    "    width = np.linalg.norm(np.array(coords[0:2])-np.array(coords[2:4]))\n",
    "    height = np.linalg.norm(np.array(coords[2:4])-np.array(coords[4:6])) \n",
    "    \n",
    "    return max(height, width) / min(height, width)"
   ]
  },
  {
   "cell_type": "code",
   "execution_count": 3,
   "id": "19a07a0d",
   "metadata": {},
   "outputs": [],
   "source": [
    "def save(\n",
    "        filename,\n",
    "        shapes,\n",
    "        imagePath,\n",
    "        imageHeight,\n",
    "      \n",
    "    imageWidth,\n",
    "        imageData=None,\n",
    "        otherData=None,\n",
    "        flags=None,\n",
    "    ):\n",
    "    if otherData is None:\n",
    "        otherData = {}\n",
    "    if flags is None:\n",
    "        flags = {}\n",
    "    data = dict(\n",
    "        version=\"4.5.9\",\n",
    "        flags=flags,\n",
    "        shapes=shapes,\n",
    "        imagePath=imagePath,\n",
    "        imageData=imageData,\n",
    "        imageHeight=imageHeight,\n",
    "        imageWidth=imageWidth,\n",
    "    )\n",
    "    for key, value in otherData.items():\n",
    "        assert key not in data\n",
    "        data[key] = value\n",
    "    try:\n",
    "        with open(filename, \"w\") as f:\n",
    "            json.dump(data, f, ensure_ascii=False, indent=2)\n",
    "        #self.filename = filename\n",
    "    except Exception as e:\n",
    "        raise LabelFileError(e)"
   ]
  },
  {
   "cell_type": "code",
   "execution_count": 7,
   "id": "51f66eff",
   "metadata": {},
   "outputs": [],
   "source": [
    "ROOT = '/nas2/YJ/DATA/Trucks_max250_under3000//train/'\n",
    "IMG_PATH = os.path.join(ROOT, 'images')\n",
    "LBL_PATH = os.path.join(ROOT, 'labelTxt')"
   ]
  },
  {
   "cell_type": "code",
   "execution_count": 8,
   "id": "cb094d84",
   "metadata": {},
   "outputs": [],
   "source": [
    "labels = glob.glob(os.path.join(LBL_PATH, '*.txt'))"
   ]
  },
  {
   "cell_type": "code",
   "execution_count": null,
   "id": "0bd8618b",
   "metadata": {},
   "outputs": [],
   "source": [
    "for label in labels :\n",
    "    name = os.path.split(label)[1][:-4]\n",
    "    IMG_NAME = '{}.png'.format(name)\n",
    "    img = Image.open(os.path.join(IMG_PATH, IMG_NAME))\n",
    "    w, h = img.size\n",
    "    with open(label, 'r') as f :\n",
    "        lines = f.readlines()\n",
    "        shapes = []\n",
    "        for line in lines :\n",
    "            gt = line.split(' ')\n",
    "            coords = [float(x) for x in gt[:8]]\n",
    "            ratio = calc_ratio(coords)\n",
    "            if ratio < 3 :\n",
    "                cls = 'small_truck'\n",
    "            else :\n",
    "                cls = 'large_truck'\n",
    "            data = {}\n",
    "            data['label'] = cls\n",
    "            data['points'] = [coords[0:2],coords[2:4],coords[4:6],coords[6:8]]\n",
    "            data['group_id'] = None\n",
    "            data['shape_type'] = \"polygon\"\n",
    "            data[\"flasgs\"] = {}\n",
    "            shapes.append(data)\n",
    "            \n",
    "            save(\n",
    "                filename=os.path.join(IMG_PATH, '{}.json'.format(name)),\n",
    "                shapes=shapes,\n",
    "                imagePath= name + '.png',\n",
    "                imageHeight = h,\n",
    "                imageWidth = w,\n",
    "                imageData=None,\n",
    "                otherData=None,\n",
    "                flags=None,\n",
    "                )"
   ]
  },
  {
   "cell_type": "code",
   "execution_count": null,
   "id": "14f308d4",
   "metadata": {},
   "outputs": [],
   "source": []
  },
  {
   "cell_type": "code",
   "execution_count": null,
   "id": "e4e85aa5",
   "metadata": {},
   "outputs": [],
   "source": []
  }
 ],
 "metadata": {
  "kernelspec": {
   "display_name": "Python 3",
   "language": "python",
   "name": "python3"
  },
  "language_info": {
   "codemirror_mode": {
    "name": "ipython",
    "version": 3
   },
   "file_extension": ".py",
   "mimetype": "text/x-python",
   "name": "python",
   "nbconvert_exporter": "python",
   "pygments_lexer": "ipython3",
   "version": "3.6.13"
  }
 },
 "nbformat": 4,
 "nbformat_minor": 5
}
